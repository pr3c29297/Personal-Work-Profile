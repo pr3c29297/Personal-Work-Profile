{
 "cells": [
  {
   "cell_type": "markdown",
   "metadata": {},
   "source": [
    "# Assignment 3(B): Building a Robot Cleaner with Reinforcement Learning"
   ]
  },
  {
   "cell_type": "markdown",
   "metadata": {},
   "source": [
    "### Acknowledgment\n",
    "\n",
    "You are required to acknowledge the following statement by entering your full name, SID, and date below:\n",
    "\n",
    "\"By continuing to work on or submit this deliverable, I acknowledge that my submission is entirely my independent original work done exclusively for this assessment item. I agree to: \n",
    "\n",
    "* Submit only my independent original work\n",
    "* Not share answers and content of this assessment with others\n",
    "* Report suspected violations to the instructor\n",
    "\n",
    "Furthermore, I acknowledge that I have not engaged and will not engage in any activities that dishonestly improve my results or dishonestly improve/hurt the results of others, and that I abide to all academic honor codes set by the University.\"\n",
    "\n",
    "**Your full name:**  \n",
    "Pang Fong Chun  \n",
    "**Your SID:**  \n",
    "3035281299  \n",
    "**Date:**  \n",
    "20 Jul 2022"
   ]
  },
  {
   "cell_type": "markdown",
   "metadata": {},
   "source": [
    "## 1. Introduction <a id='section_1'></a>\n",
    "In this part of the assignment, you will implement the Reinforcement Learning (RL) algorithms, and use the models learned by these algorithms to make decisions on cleaning robot navigation problem. You are required to complete the lines between __START YOUR CODE HERE__ and __END YOUR CODE HERE__ (if applicable) and to execute each cell. Within each coding block, you are required to enter your code to replace `None` after the `=` sign (except otherwise stated). You are not allowed to use other libraries or files than those provided in this assignment. When entering your code, you should not change the names of variables, constants, and functions already listed. \n",
    "\n",
    "**Contents**\n",
    "\n",
    "* [1. Introduction](#section_1)\n",
    "* [2. Learning Environment](#section_2)\n",
    "* [3. Q-Agent](#section_3)\n",
    "* [4. Agent Environment Interaction](#section_4)\n",
    "* [5. Cleaning Performance Evaluation](#section_5)\n",
    "    * [5.1. Empty Room with One Cell to Clean](#section_51)\n",
    "    * [5.2. Empty Room with Two Cells to Clean](#section_52)\n",
    "    * [5.3. Room with Obstacles and Two Cells to Clean](#section_53)\n",
    "* [6. Marking Scheme and Submission](#section_6)\n",
    "* [7. Summary](#section_7)\n",
    "\n",
    "Before we begin with the exercises, we need to import all libraries required for this programming exercise."
   ]
  },
  {
   "cell_type": "code",
   "execution_count": 1,
   "metadata": {},
   "outputs": [],
   "source": [
    "# Scientific and vector computation for python\n",
    "import numpy as np\n",
    "\n",
    "# Plotting library\n",
    "import matplotlib.pyplot as plt \n",
    "\n",
    "# library for data copy\n",
    "from copy import deepcopy\n",
    "\n",
    "# package for display\n",
    "from IPython import display\n",
    "\n",
    "# the Room environment\n",
    "import Room\n",
    "from Room import *\n",
    "\n",
    "# tells matplotlib to embed plots within the notebook\n",
    "%matplotlib inline"
   ]
  },
  {
   "cell_type": "markdown",
   "metadata": {},
   "source": [
    "## 2. Learning Environment <a id='section_2'></a>\n",
    "You will use a pre-defined environment (a room) to train a robot (or agent) to learn to clean a room. The robot has a set of sensors to observe the state of its environment, and a set of actions it can perform to change the state. You will implement a reinforcement learning (RL) algorithm to enable the robot to learn. The environment (the class named \"Room()\") has been set up for you as follows.\n",
    "\n",
    "![Room Environment](./room.png \"Room\")\n",
    "\n",
    "1. **Grid**: the room is split into 49 (=7x7) cells. The position of the robot cleaner must be in one of these cells.\n",
    "2. **Goal**: the goal of the robot (green circle) is to clean all the cell(s) labeled with **red stars** by minimizing the energy to be used to navigate to the cell(s) (assuming unlimited battery capacity). \n",
    "3. **Obstacle**: each obstacle is labeled by a **black cell** that the robot should avoid colliding with.\n",
    "\n",
    "All agents will learn by interacting with the environment. You can create and initialize such the environment (room) with the following statement:\n",
    "```\n",
    "    env = Room(size=(5,5), goal_num=3, obstacle_num=2)\n",
    "```\n",
    "where the input `size=` denotes the configuration of the room; \"goal_num\" is the number of cells (labeled with stars) that the robot should clean; \"obstacle_num\" is the number of obstacles. After you initialized the environment named by `env`, you can use three types of functions:\n",
    "\n",
    "1. `env.reset()`: this function is used to reset the room environment. The positions of the robot and goals will be re-assigned randomly. The output of this function is the `state` vector (i.e., states).\n",
    "2. `env.step()`: is used to let the agent interact with the environment. The agent enters `action` to the function that returns the `state` and `reward`. The boolean parameter `done` indicates whether the learning episode is ending (if it happens, then the function \"env.reset()\" must be used to reset the environment).\n",
    "3. `env.render()`: is used to visualize the current situation of environment (grid world), goal cells (red star) and your cleaning robot (green circle).\n",
    "\n",
    "##### Reward Computation\n",
    "1. energy usage: a penalty $r_{energy} = -0.01$ will be incurred each time the `env.step()` is used.\n",
    "2. reaching a goal: when the robot reaches a goal, a reward $r_{goal} = +1$ will be added and the color of goal star will turn from red to blue (no more reward will be given when it is re-visited). If all goals have been reached, then the learning episode will end.\n",
    "3. boundary penalty: any action that will lead the robot to go out of the room boundary will incur a penalty $r_{boundary} = -0.01$, and the robot will stay in the cell prior to taking this action.\n",
    "4. obstacle penalty: when the robot collide with an obstacle, a penalty $r_{obstacle} = -1$ will be incurred. Then, this episode will end. \n"
   ]
  },
  {
   "cell_type": "markdown",
   "metadata": {},
   "source": [
    "**[Test Block 1]:** Test code for class `Room()`.\n",
    "After defining the environment, please run the following demo `room_0 = Room()`environment to see how the robot interacts with the environment. "
   ]
  },
  {
   "cell_type": "code",
   "execution_count": 2,
   "metadata": {},
   "outputs": [
    {
     "data": {
      "image/png": "[encoded data removed]",
      "text/plain": [
       "<Figure size 432x288 with 1 Axes>"
      ]
     },
     "metadata": {
      "needs_background": "light"
     },
     "output_type": "display_data"
    }
   ],
   "source": [
    "# random robot cleaning\n",
    "fig = plt.figure(figsize=(6,6))\n",
    "ax = fig.subplots(1,1)\n",
    "room_0 = Room(goal_num=2, obstacle_num=3)\n",
    "state = room_0.reset()\n",
    "\n",
    "for _ in range(100):\n",
    "    action = np.random.randint(room_0.action_space)\n",
    "    state, reward, done = room_0.step(action)\n",
    "    room_0.render()\n",
    "    plt.pause(0.01)\n",
    "    display.clear_output(wait=True)\n",
    "    if done:\n",
    "        state = room_0.reset()"
   ]
  },
  {
   "cell_type": "markdown",
   "metadata": {},
   "source": [
    "## 3. Q-Agent <a id='section_3'></a>\n",
    "One of the most important tasks to use reinforcement learning is to define a learning agent. In this assignment, your task is to implement the Q-learning algorithm. The update rule of Q-learning algorithm is defined as follows:\n",
    "\n",
    "$$ \\hat{Q}(s, a) \\leftarrow r + \\gamma\\max_{a^{\\prime}}\\hat{Q}(s^{\\prime}, a^{\\prime}) \\ . \\tag{1}$$ \n",
    "\n",
    "**Task 1:** <a id='task_1'></a> in detail, you should:\n",
    "\n",
    "1. assign the input `gamma` to attribute `self.gamma` (1 line)\n",
    "2. assign the input `learning_rate` to attribute `self.learning_rate` (1 line)\n",
    "3. assign the input `epsilon` to attribute `self.epsilon` (1 line)\n",
    "\n",
    "**Task 2:** <a id='task_2'></a> In this task, you will implement the [$\\epsilon$-greedy](https://stanford-cs221.github.io/autumn2020-extra/modules/mdps/epsilon-greedy.pdf) rule for the exploration and exploitation in an unknown environment ([this article provides a practical explanation of the algorithm](https://moodle.hku.hk/mod/resource/view.php?id=2589880)).\n",
    "\n",
    "1. generate a random number in uniform distribution between 0 and 1. You can use the function `np.random.uniform()` to generate this number and compare this number with `self.epsilon`. (1 line)\n",
    "2. if the number is larger than the `self.epsilon`, you will get current action value based on the current state of Q table. To do so, you will (3 lines)\n",
    "    * transform the list data type of `state` to tuple with the function `tuple()`. Save it in `tuple_state`.\n",
    "    * use `self.q_table[]` and `tuple_state` to get the q value vector of current state. Save it in `q_value`.\n",
    "    * extract the element index of the maximal value in the `q_value`. Save it in `action`. The function [`np.argmax()`](https://numpy.org/doc/stable/reference/generated/numpy.argmax.html) can be applied to a numpy array to find the maximal value among all its values.\n",
    "3. if the number is smaller than `self.epsilon`, then you will select one action from [0, 1, 2, 3] randomly (note: `self.action_n` = 4, i.e., four possible actions). You can use the `np.random.randint()` to finish this function. (1 line)\n",
    "\n",
    "**Task 3:** <a id='task_3'></a> In this task, you will:\n",
    "\n",
    "1. compute `td_target` by applying the updating rule of Q-learning (Equation (1)) to get next state's estimated reward (note: you can use `.max()` to find the maximum scalar value within a numpy array; you need to multiply `(1 - done)` with the $\\max$ function in Equation (1)) (1 line)\n",
    "2. assign `state` to `q_state` and append `action` to `q_state` (2 lines)\n",
    "3. compute `td_error` by subtracting the reward of current state and action (by using the `self.q_table`) from `td_target` (hint: see `q_value` in Task 2) (1 line)\n",
    "4. update the Q-table of current state by adding the product of learning rate and `td_error` (1 line)"
   ]
  },
  {
   "cell_type": "code",
   "execution_count": 30,
   "metadata": {},
   "outputs": [],
   "source": [
    "class QAgent:\n",
    "    def __init__(self, env, gamma=0.9, learning_rate=0.1, epsilon=0.2):\n",
    "        '''\n",
    "            - env: environment for learning\n",
    "            - gamma: reward discount factor\n",
    "            - learning_rate: learning rate\n",
    "            - epsilon: hyperparameter for exploration\n",
    "        '''\n",
    "        # task 1:\n",
    "        # ====================== START YOUR CODE HERE ======================\n",
    "        self.gamma = gamma\n",
    "        self.learning_rate = learning_rate\n",
    "        self.epsilon = epsilon\n",
    "        # ====================== END YOUR CODE HERE ========================\n",
    "        self.action_n = env.action_space\n",
    "        # q-table\n",
    "        q_table_dimension = env.state_space\n",
    "        q_table_dimension.append(env.action_space)\n",
    "        self.q_table = np.random.normal(0.0, 0.0001, q_table_dimension)\n",
    "        \n",
    "    def decide(self, state):\n",
    "        # task 2:\n",
    "        # ====================== START YOUR CODE HERE ======================\n",
    "        if np.random.uniform() > self.epsilon:\n",
    "            tuple_state = tuple(state)\n",
    "            q_value = self.q_table[tuple_state]\n",
    "            action = np.argmax(q_value)\n",
    "        else:\n",
    "            action = np.random.randint(self.action_n)\n",
    "        # ====================== END YOUR CODE HERE ========================\n",
    "        return action\n",
    "    \n",
    "    def learn(self, state, action, reward, next_state, done):\n",
    "        # task 3:\n",
    "        # ====================== START YOUR CODE HERE ======================\n",
    "        td_target = reward+self.gamma*max(self.q_table[tuple(next_state)])*(1-done)\n",
    "        q_state = state\n",
    "        q_state.append(action)\n",
    "        td_error = td_target-self.q_table[tuple(q_state)]\n",
    "        self.q_table[tuple(q_state)] += self.learning_rate*td_error\n",
    "        # ====================== END YOUR CODE HERE ========================"
   ]
  },
  {
   "cell_type": "markdown",
   "metadata": {},
   "source": [
    "## 4. Agent-Environment Interaction <a id='section_4'></a>\n",
    "In this part, you will define the function for the interaction between agent and environment. In detail, you will:\n",
    "\n",
    "**Task 4:** <a id='task_4'></a>\n",
    "\n",
    "1. get the current action from the agent with its function `decide()`. Save the resulting action in `action` (1 line)\n",
    "2. use the `action` as input to the function `env.step()` to generate `next_state`, `reward`, and `done` (check if the current state is a terminal state of this episode) (1 line)\n",
    "3. store the obtained `reward` in `episode_reward` (1 line)\n",
    "\n",
    "**Task 5:** <a id='task_5'></a> \n",
    "\n",
    "1. when `train` is true, please use your implemented `agent.learn()` function to update the Q-table in the agent with existing variables as inputs (1 line)"
   ]
  },
  {
   "cell_type": "code",
   "execution_count": 31,
   "metadata": {},
   "outputs": [],
   "source": [
    "def agent_env_interaction(env, agent, max_iter=50, train=False):\n",
    "    episode_reward = 0\n",
    "    state = env.reset()\n",
    "    for _ in range(max_iter):\n",
    "        # task 4:\n",
    "        # ====================== START YOUR CODE HERE ======================\n",
    "        action = agent.decide(state)\n",
    "        next_state, reward, done = env.step(action)\n",
    "        episode_reward += reward\n",
    "        # ====================== END YOUR CODE HERE ========================\n",
    "        if train:\n",
    "            # task 5:\n",
    "            # ====================== START YOUR CODE HERE ======================\n",
    "            agent.learn(state, action, reward, next_state, done)\n",
    "            # ====================== END YOUR CODE HERE ========================\n",
    "        if done:\n",
    "            break\n",
    "        state = next_state\n",
    "    return episode_reward"
   ]
  },
  {
   "cell_type": "markdown",
   "metadata": {},
   "source": [
    "## 5. Cleaning Performance Evaluation <a id='section_5'></a>\n",
    "In this section, you will train multiple agents in different environments. Note that the agents cannot guarantee 100% successful completion of the tasks. You can re-run the evaluation to watch the overall performance of the agent. \n",
    "### 5.1. Empty Room with One Cell to Clean<a id='section_51'></a>\n",
    "#### 5.1.1. Training Environment Setting <a id='section_511'></a>\n",
    "The learning task is to let the robot clean one target cell in an empty room (without obstacle). The environment will be configured to have one goal and no obstacle. In detail, you will:\n",
    "\n",
    "**Task 6:** <a id='task_6'></a> \n",
    "##### Task 6(A)\n",
    "1. create a `Room()` environment and save it in `room_1`. Please set the input `goal_num=` and `obstacle_num=` correctly. (1 line)\n",
    "2. create a `QAgent()` robot and save it in `robot_1`. Please set the input `epsilon=` as 0.2 (you can also set another value later for comparison). (1 line)\n",
    "##### Task 6(B)\n",
    "3. get the reward of one episode with your implemented function `agent_env_interaction()`. Do not forget to set the input `train=` to be `True`. Then, save the result in `episode_reward`. (1 line)"
   ]
  },
  {
   "cell_type": "code",
   "execution_count": 32,
   "metadata": {},
   "outputs": [
    {
     "name": "stdout",
     "output_type": "stream",
     "text": [
      "Episode: 0\n",
      "Episode: 1000\n",
      "Episode: 2000\n",
      "Episode: 3000\n",
      "Episode: 4000\n",
      "Episode: 5000\n",
      "Episode: 6000\n",
      "Episode: 7000\n",
      "Episode: 8000\n",
      "Episode: 9000\n"
     ]
    }
   ],
   "source": [
    "episodes = 10000\n",
    "# create environment\n",
    "# task 6(A):\n",
    "# ====================== START YOUR CODE HERE ======================\n",
    "room_1 = Room(goal_num=1, obstacle_num=0)\n",
    "robot_1 = QAgent(room_1, epsilon=0.2)\n",
    "# ====================== END YOUR CODE HERE ========================\n",
    "# training\n",
    "episode_rewards = []\n",
    "for episode in range(episodes):\n",
    "    if episode % 1000 == 0:\n",
    "        print(\"Episode: {}\".format(episode))\n",
    "    # task 6(B):\n",
    "    # ====================== START YOUR CODE HERE ======================\n",
    "    episode_reward = agent_env_interaction(room_1,robot_1,train=True)\n",
    "    # ====================== END YOUR CODE HERE ========================\n",
    "    episode_rewards.append(episode_reward)"
   ]
  },
  {
   "cell_type": "markdown",
   "metadata": {},
   "source": [
    "#### 5.1.2. Training Performance Visualization <a id='section_512'></a>\n",
    "After training 10000 episodes, the average rewards of each episode are visualized by the following figure. Note that we use a moving average (window size=20) on the recorded reward information. Decreasing the size of the window would show a more drastic fluctuation of rewards during the learning process."
   ]
  },
  {
   "cell_type": "code",
   "execution_count": 33,
   "metadata": {},
   "outputs": [
    {
     "data": {
      "image/png": "[encoded data removed]",
      "text/plain": [
       "<Figure size 576x432 with 1 Axes>"
      ]
     },
     "metadata": {
      "needs_background": "light"
     },
     "output_type": "display_data"
    }
   ],
   "source": [
    "# compute moving average\n",
    "window_size = 20\n",
    "moving_averaged_rewards = list()\n",
    "for idx in range(len(episode_rewards)):\n",
    "    if idx+window_size < len(episode_rewards):\n",
    "        average_reward = np.mean(episode_rewards[idx:idx+window_size])\n",
    "        moving_averaged_rewards.append(average_reward)\n",
    "\n",
    "# test agent without exploration\n",
    "robot_1.epsilon = 0.\n",
    "test_episode_rewards = [agent_env_interaction(room_1, robot_1, train=False) for _ in range(500)]\n",
    "\n",
    "fig = plt.figure(figsize=(8,6))\n",
    "ax = fig.subplots(1,1)\n",
    "ax.plot(moving_averaged_rewards, color='b', linewidth=1.5)\n",
    "ax.grid(linestyle='--', linewidth=1.5)\n",
    "ax.set_xlabel('Number of episodes')\n",
    "ax.set_ylabel('Episodic rewards')\n",
    "ax.set_title('Average episodic reward = {} / {} = {}'.format(sum(test_episode_rewards), \n",
    "                                                              len(test_episode_rewards), np.mean(test_episode_rewards)));"
   ]
  },
  {
   "cell_type": "markdown",
   "metadata": {},
   "source": [
    "#### 5.1.3. Robot Behavior Visualization <a id='section_513'></a>\n",
    "You can also visualize the behaviors of your trained cleaning robot in the room by the following code block:  "
   ]
  },
  {
   "cell_type": "code",
   "execution_count": 34,
   "metadata": {},
   "outputs": [
    {
     "data": {
      "image/png": "[encoded data removed]",
      "text/plain": [
       "<Figure size 432x288 with 1 Axes>"
      ]
     },
     "metadata": {
      "needs_background": "light"
     },
     "output_type": "display_data"
    }
   ],
   "source": [
    "# robot clearning with single goal\n",
    "state = room_1.reset()\n",
    "for _ in range(100):\n",
    "    action = robot_1.decide(state)\n",
    "    state, reward, done = room_1.step(action)\n",
    "    room_1.render()\n",
    "    plt.pause(0.01)\n",
    "    display.clear_output(wait=True)\n",
    "    if done:\n",
    "        state = room_1.reset()"
   ]
  },
  {
   "cell_type": "markdown",
   "metadata": {},
   "source": [
    "### 5.2. Empty Room with Two Cells to Clean <a id='section_52'></a>\n",
    "#### 5.2.1. Training Environment Setting <a id='section_521'></a>\n",
    "The learning task in this section is to let the robot clean two target cells in an empty room (without obstacle). The environment will be configured to have two goals and no obstacle. In detail, you will:\n",
    "\n",
    "**Task 7:** <a id='task_7'></a> \n",
    "##### Task 7(A)\n",
    "1. create a `Room()` environment and save it in `room_2`. Please set the input `goal_num=` and `obstacle_num=` correctly. (1 line)\n",
    "2. create a `QAgent()` robot and save it in `robot_2`. Please set the input `epsilon=` as 0.2 (you can also set another value later for comparison). (1 line)\n",
    "##### Task 7(B)\n",
    "3. get the reward of one episode with your implemented function `agent_env_interaction()`. Do not forget to set the input `train=` to be `True`. Then, save the result in `episode_reward`. (1 line)\n",
    "\n",
    "This part requires aproximately 4-6 minutes depending on your hardware."
   ]
  },
  {
   "cell_type": "code",
   "execution_count": 35,
   "metadata": {},
   "outputs": [
    {
     "name": "stdout",
     "output_type": "stream",
     "text": [
      "Episode: 0\n",
      "Episode: 1000\n",
      "Episode: 2000\n",
      "Episode: 3000\n",
      "Episode: 4000\n",
      "Episode: 5000\n",
      "Episode: 6000\n",
      "Episode: 7000\n",
      "Episode: 8000\n",
      "Episode: 9000\n",
      "Episode: 10000\n",
      "Episode: 11000\n",
      "Episode: 12000\n",
      "Episode: 13000\n",
      "Episode: 14000\n",
      "Episode: 15000\n",
      "Episode: 16000\n",
      "Episode: 17000\n",
      "Episode: 18000\n",
      "Episode: 19000\n",
      "Episode: 20000\n",
      "Episode: 21000\n",
      "Episode: 22000\n",
      "Episode: 23000\n",
      "Episode: 24000\n",
      "Episode: 25000\n",
      "Episode: 26000\n",
      "Episode: 27000\n",
      "Episode: 28000\n",
      "Episode: 29000\n",
      "Episode: 30000\n",
      "Episode: 31000\n",
      "Episode: 32000\n",
      "Episode: 33000\n",
      "Episode: 34000\n",
      "Episode: 35000\n",
      "Episode: 36000\n",
      "Episode: 37000\n",
      "Episode: 38000\n",
      "Episode: 39000\n",
      "Episode: 40000\n",
      "Episode: 41000\n",
      "Episode: 42000\n",
      "Episode: 43000\n",
      "Episode: 44000\n",
      "Episode: 45000\n",
      "Episode: 46000\n",
      "Episode: 47000\n",
      "Episode: 48000\n",
      "Episode: 49000\n",
      "Episode: 50000\n",
      "Episode: 51000\n",
      "Episode: 52000\n",
      "Episode: 53000\n",
      "Episode: 54000\n",
      "Episode: 55000\n",
      "Episode: 56000\n",
      "Episode: 57000\n",
      "Episode: 58000\n",
      "Episode: 59000\n",
      "Episode: 60000\n",
      "Episode: 61000\n",
      "Episode: 62000\n",
      "Episode: 63000\n",
      "Episode: 64000\n",
      "Episode: 65000\n",
      "Episode: 66000\n",
      "Episode: 67000\n",
      "Episode: 68000\n",
      "Episode: 69000\n",
      "Episode: 70000\n",
      "Episode: 71000\n",
      "Episode: 72000\n",
      "Episode: 73000\n",
      "Episode: 74000\n",
      "Episode: 75000\n",
      "Episode: 76000\n",
      "Episode: 77000\n",
      "Episode: 78000\n",
      "Episode: 79000\n",
      "Episode: 80000\n",
      "Episode: 81000\n",
      "Episode: 82000\n",
      "Episode: 83000\n",
      "Episode: 84000\n",
      "Episode: 85000\n",
      "Episode: 86000\n",
      "Episode: 87000\n",
      "Episode: 88000\n",
      "Episode: 89000\n",
      "Episode: 90000\n",
      "Episode: 91000\n",
      "Episode: 92000\n",
      "Episode: 93000\n",
      "Episode: 94000\n",
      "Episode: 95000\n",
      "Episode: 96000\n",
      "Episode: 97000\n",
      "Episode: 98000\n",
      "Episode: 99000\n"
     ]
    }
   ],
   "source": [
    "episodes = 100000\n",
    "# create environment\n",
    "# task 7(A):\n",
    "# ====================== START YOUR CODE HERE ======================\n",
    "room_2 = Room(goal_num=2, obstacle_num=0)\n",
    "robot_2 = QAgent(room_2, epsilon=0.2)\n",
    "# ====================== END YOUR CODE HERE ========================\n",
    "# training\n",
    "episode_rewards = []\n",
    "for episode in range(episodes):\n",
    "    if episode % 1000 == 0:\n",
    "        print(\"Episode: {}\".format(episode))\n",
    "    # task 7(B):\n",
    "    # ====================== START YOUR CODE HERE ======================\n",
    "    episode_reward = agent_env_interaction(room_2,robot_2,train=True)\n",
    "    # ====================== END YOUR CODE HERE ========================\n",
    "    episode_rewards.append(episode_reward)"
   ]
  },
  {
   "cell_type": "markdown",
   "metadata": {},
   "source": [
    "#### 5.2.2. Training Performance Visualization <a id='section_522'></a>\n",
    "After training 100000 episodes, the average rewards of each episode are visualized by the following figure."
   ]
  },
  {
   "cell_type": "code",
   "execution_count": 36,
   "metadata": {},
   "outputs": [
    {
     "data": {
      "image/png": "[encoded data removed]",
      "text/plain": [
       "<Figure size 576x432 with 1 Axes>"
      ]
     },
     "metadata": {
      "needs_background": "light"
     },
     "output_type": "display_data"
    }
   ],
   "source": [
    "# compute moving average\n",
    "window_size = 20\n",
    "moving_averaged_rewards = list()\n",
    "for idx in range(len(episode_rewards)):\n",
    "    if idx+window_size < len(episode_rewards):\n",
    "        average_reward = np.mean(episode_rewards[idx:idx+window_size])\n",
    "        moving_averaged_rewards.append(average_reward)\n",
    "\n",
    "robot_2.epsilon = 0. # disable exploration\n",
    "test_episode_rewards = [agent_env_interaction(room_2, robot_2, train=False) for _ in range(500)]\n",
    "\n",
    "fig = plt.figure(figsize=(8,6))\n",
    "ax = fig.subplots(1,1)\n",
    "ax.plot(moving_averaged_rewards, color='b', linewidth=1.5)\n",
    "ax.grid(linestyle='--', linewidth=1.5)\n",
    "ax.set_xlabel('Number of episodes')\n",
    "ax.set_ylabel('Episodic rewards')\n",
    "ax.set_title('Average episodic reward = {} / {} = {}'.format(sum(test_episode_rewards), \n",
    "                                                              len(test_episode_rewards), np.mean(test_episode_rewards)));"
   ]
  },
  {
   "cell_type": "markdown",
   "metadata": {},
   "source": [
    "#### 5.2.3. Robot Behavior Visualization <a id='section_523'></a>\n",
    "You can also visualize the behaviors of your trained cleaning robot in the room by the following code block:  "
   ]
  },
  {
   "cell_type": "code",
   "execution_count": 37,
   "metadata": {},
   "outputs": [
    {
     "data": {
      "image/png": "[encoded data removed]",
      "text/plain": [
       "<Figure size 432x288 with 1 Axes>"
      ]
     },
     "metadata": {
      "needs_background": "light"
     },
     "output_type": "display_data"
    }
   ],
   "source": [
    "# robot clearning with single goal\n",
    "state = room_2.reset()\n",
    "for _ in range(100):\n",
    "    action = robot_2.decide(state)\n",
    "    state, reward, done = room_2.step(action)\n",
    "    room_2.render()\n",
    "    plt.pause(0.01)\n",
    "    display.clear_output(wait=True)\n",
    "    if done:\n",
    "        state = room_2.reset()"
   ]
  },
  {
   "cell_type": "markdown",
   "metadata": {},
   "source": [
    "### 5.3. Room with Obstacles and Two Cells to Clean <a id='section_53'></a>\n",
    "#### 5.3.1. Training Environment Setting <a id='section_531'></a>\n",
    "The learning task is to let the robot clean two target cells in a room with two obstacles. The environment will be configured to have two goals and two obstacles. In detail, you will:\n",
    "\n",
    "**Task 8:** <a id='task_8'></a> \n",
    "##### Task 8(A)\n",
    "1. create a `Room()` environment and save it in `room_3`. Please set the input `goal_num=` and `obstacle_num=` correctly. (1 line)\n",
    "2. create a `QAgent()` robot and save it in `robot_3`. Please set the input `epsilon=` as 0.2 (you can also set another value later for comparison). (1 line)\n",
    "##### Task 8(B)\n",
    "3. get the reward of one episode with your implemented function `agent_env_interaction()`. Do not forget to set the input `train=` to be \"True\". Then, save the result in `episode_reward`. (1 line)\n",
    "\n",
    "This part requires aproximately 7-10 minutes depending on your hardware."
   ]
  },
  {
   "cell_type": "code",
   "execution_count": 38,
   "metadata": {},
   "outputs": [
    {
     "name": "stdout",
     "output_type": "stream",
     "text": [
      "Episode: 0\n",
      "Episode: 1000\n",
      "Episode: 2000\n",
      "Episode: 3000\n",
      "Episode: 4000\n",
      "Episode: 5000\n",
      "Episode: 6000\n",
      "Episode: 7000\n",
      "Episode: 8000\n",
      "Episode: 9000\n",
      "Episode: 10000\n",
      "Episode: 11000\n",
      "Episode: 12000\n",
      "Episode: 13000\n",
      "Episode: 14000\n",
      "Episode: 15000\n",
      "Episode: 16000\n",
      "Episode: 17000\n",
      "Episode: 18000\n",
      "Episode: 19000\n",
      "Episode: 20000\n",
      "Episode: 21000\n",
      "Episode: 22000\n",
      "Episode: 23000\n",
      "Episode: 24000\n",
      "Episode: 25000\n",
      "Episode: 26000\n",
      "Episode: 27000\n",
      "Episode: 28000\n",
      "Episode: 29000\n",
      "Episode: 30000\n",
      "Episode: 31000\n",
      "Episode: 32000\n",
      "Episode: 33000\n",
      "Episode: 34000\n",
      "Episode: 35000\n",
      "Episode: 36000\n",
      "Episode: 37000\n",
      "Episode: 38000\n",
      "Episode: 39000\n",
      "Episode: 40000\n",
      "Episode: 41000\n",
      "Episode: 42000\n",
      "Episode: 43000\n",
      "Episode: 44000\n",
      "Episode: 45000\n",
      "Episode: 46000\n",
      "Episode: 47000\n",
      "Episode: 48000\n",
      "Episode: 49000\n",
      "Episode: 50000\n",
      "Episode: 51000\n",
      "Episode: 52000\n",
      "Episode: 53000\n",
      "Episode: 54000\n",
      "Episode: 55000\n",
      "Episode: 56000\n",
      "Episode: 57000\n",
      "Episode: 58000\n",
      "Episode: 59000\n",
      "Episode: 60000\n",
      "Episode: 61000\n",
      "Episode: 62000\n",
      "Episode: 63000\n",
      "Episode: 64000\n",
      "Episode: 65000\n",
      "Episode: 66000\n",
      "Episode: 67000\n",
      "Episode: 68000\n",
      "Episode: 69000\n",
      "Episode: 70000\n",
      "Episode: 71000\n",
      "Episode: 72000\n",
      "Episode: 73000\n",
      "Episode: 74000\n",
      "Episode: 75000\n",
      "Episode: 76000\n",
      "Episode: 77000\n",
      "Episode: 78000\n",
      "Episode: 79000\n",
      "Episode: 80000\n",
      "Episode: 81000\n",
      "Episode: 82000\n",
      "Episode: 83000\n",
      "Episode: 84000\n",
      "Episode: 85000\n",
      "Episode: 86000\n",
      "Episode: 87000\n",
      "Episode: 88000\n",
      "Episode: 89000\n",
      "Episode: 90000\n",
      "Episode: 91000\n",
      "Episode: 92000\n",
      "Episode: 93000\n",
      "Episode: 94000\n",
      "Episode: 95000\n",
      "Episode: 96000\n",
      "Episode: 97000\n",
      "Episode: 98000\n",
      "Episode: 99000\n",
      "Episode: 100000\n",
      "Episode: 101000\n",
      "Episode: 102000\n",
      "Episode: 103000\n",
      "Episode: 104000\n",
      "Episode: 105000\n",
      "Episode: 106000\n",
      "Episode: 107000\n",
      "Episode: 108000\n",
      "Episode: 109000\n",
      "Episode: 110000\n",
      "Episode: 111000\n",
      "Episode: 112000\n",
      "Episode: 113000\n",
      "Episode: 114000\n",
      "Episode: 115000\n",
      "Episode: 116000\n",
      "Episode: 117000\n",
      "Episode: 118000\n",
      "Episode: 119000\n",
      "Episode: 120000\n",
      "Episode: 121000\n",
      "Episode: 122000\n",
      "Episode: 123000\n",
      "Episode: 124000\n",
      "Episode: 125000\n",
      "Episode: 126000\n",
      "Episode: 127000\n",
      "Episode: 128000\n",
      "Episode: 129000\n",
      "Episode: 130000\n",
      "Episode: 131000\n",
      "Episode: 132000\n",
      "Episode: 133000\n",
      "Episode: 134000\n",
      "Episode: 135000\n",
      "Episode: 136000\n",
      "Episode: 137000\n",
      "Episode: 138000\n",
      "Episode: 139000\n",
      "Episode: 140000\n",
      "Episode: 141000\n",
      "Episode: 142000\n",
      "Episode: 143000\n",
      "Episode: 144000\n",
      "Episode: 145000\n",
      "Episode: 146000\n",
      "Episode: 147000\n",
      "Episode: 148000\n",
      "Episode: 149000\n"
     ]
    }
   ],
   "source": [
    "episodes = 150000\n",
    "# create environment\n",
    "# task 8(A):\n",
    "# ====================== START YOUR CODE HERE ======================\n",
    "room_3 = Room(goal_num=2, obstacle_num=2)\n",
    "robot_3 = QAgent(room_3, epsilon=0.2)\n",
    "# ====================== END YOUR CODE HERE ========================\n",
    "# training\n",
    "episode_rewards = []\n",
    "for episode in range(episodes):\n",
    "    if episode % 1000 == 0:\n",
    "        print(\"Episode: {}\".format(episode))\n",
    "    # task 8(B):\n",
    "    # ====================== START YOUR CODE HERE ======================\n",
    "    episode_reward = agent_env_interaction(room_3,robot_3,train=True)\n",
    "    # ====================== END YOUR CODE HERE ========================\n",
    "    episode_rewards.append(episode_reward)"
   ]
  },
  {
   "cell_type": "markdown",
   "metadata": {},
   "source": [
    "#### 5.3.2. Training Performance Visualization <a id='section_532'></a>\n",
    "After training 150000 episodes, the average rewards of each episode are visualized by the following figure.The size of moving average window is 50 due to large vibration in more complex environment."
   ]
  },
  {
   "cell_type": "code",
   "execution_count": 39,
   "metadata": {},
   "outputs": [
    {
     "data": {
      "image/png": "[encoded data removed]",
      "text/plain": [
       "<Figure size 1080x720 with 1 Axes>"
      ]
     },
     "metadata": {
      "needs_background": "light"
     },
     "output_type": "display_data"
    }
   ],
   "source": [
    "# compute moving average\n",
    "window_size = 50\n",
    "moving_averaged_rewards = list()\n",
    "for idx in range(len(episode_rewards)):\n",
    "    if idx+window_size < len(episode_rewards):\n",
    "        average_reward = np.mean(episode_rewards[idx:idx+window_size])\n",
    "        moving_averaged_rewards.append(average_reward)\n",
    "\n",
    "robot_3.epsilon = 0. # disable exploration\n",
    "test_episode_rewards = [agent_env_interaction(room_3, robot_3) for _ in range(500)]\n",
    "\n",
    "fig = plt.figure(figsize=(15,10))\n",
    "ax = fig.subplots(1,1)\n",
    "ax.plot(moving_averaged_rewards, color='b', linewidth=2)\n",
    "ax.grid(linestyle='--', linewidth=1.5)\n",
    "ax.set_xlabel('Number of episodes')\n",
    "ax.set_ylabel('Episodic rewards')\n",
    "ax.set_title('Average episodic reward = {} / {} = {}'.format(sum(test_episode_rewards), \n",
    "                                                              len(test_episode_rewards), np.mean(test_episode_rewards)));"
   ]
  },
  {
   "cell_type": "markdown",
   "metadata": {},
   "source": [
    "#### 5.3.3. Robot Behavior Visualization <a id='section_533'></a>\n",
    "You can also visualize the behaviors of your trained cleaning robot in the room by the following code block:  "
   ]
  },
  {
   "cell_type": "code",
   "execution_count": 40,
   "metadata": {},
   "outputs": [
    {
     "data": {
      "image/png": "[encoded data removed]",
      "text/plain": [
       "<Figure size 432x288 with 1 Axes>"
      ]
     },
     "metadata": {
      "needs_background": "light"
     },
     "output_type": "display_data"
    }
   ],
   "source": [
    "# robot clearning with single goal\n",
    "state = room_3.reset()\n",
    "for _ in range(100):\n",
    "    action = robot_3.decide(state)\n",
    "    state, reward, done = room_3.step(action)\n",
    "    room_3.render()\n",
    "    plt.pause(0.01)\n",
    "    display.clear_output(wait=True)\n",
    "    if done:\n",
    "        state = room_3.reset()"
   ]
  },
  {
   "cell_type": "markdown",
   "metadata": {},
   "source": [
    "Comparing the three learning scenarios, you should notice the following:\n",
    "* The epsilon-greedy algorithm balances between exploration and exploitation by using the probabilities ε and 1 − ε respectively.\n",
    "* A simple environment (as in [Section 5.1](#section_51)) with no obstacle and only one cell to clean requires fewer than 10000 learning episode to achieve convergence.\n",
    "* As the environment becomes more complex (as in [Section 5.2](#section_52) and [Section 5.3](#section_53)), the number of episodes required to find the maximum rewards increases exponentially."
   ]
  },
  {
   "cell_type": "markdown",
   "metadata": {},
   "source": [
    "## 6. Marking Scheme and Submission <a id='section_6'></a>\n",
    "\n",
    "This part carries 30% of the assignment grade. Part A (clustering) carries 50%. The Quiz posted on Moodle carries 20%. Late submission will incur a 30% deduction. The marking scheme of this part follows.\n",
    "\n",
    "**Task Summary**\n",
    "\n",
    "| Task | Grade Points \n",
    "|:----|:----:         \n",
    "| 1. Parameter Initialization ([`QAgent.__init__()`](#task_1)) | 3\n",
    "| 2. Action Sampling ([`QAgent.decide()`](#task_2)) | 4\n",
    "| 3. Q-Learning Function ([`QAgent.learn()`](#task_3)) | 6\n",
    "| 4. Agent-Environment Interaction ([`agent_env_interaction()`](#task_4)) | 5\n",
    "| 5. Learning Process ([`agent_env_interaction()`](#task_5)) | 3\n",
    "| 6. [Empty Room with One Cell to Clean](#task_6) | 3\n",
    "| 7. [Empty Room with Two Cells to Clean](#task_7) | 3\n",
    "| 8. [Room with Obstacles and Two Cells to Clean](#task_8) | 3\n",
    "| **TOTAL** | **30**\n",
    "\n",
    "### Submission\n",
    "You are required to upload to Moodle a zip file containing the following files.\n",
    "\n",
    "1. Your completed Jupyter Notebook of this part. Please rename your file as `A3B_[SID]_[FirstnameLastname].ipynb` (where `[SID]` is your student ID and `[FirstnameLastname]` is your first name and last name concatenated) and do not include the data file. You must complete the **Acknowledgment** section in order for the file to be graded.\n",
    "2. The PDF version (.pdf file) of your completed notebook (click `File > Download as > PDF via HTML` (If error occurs, you may download it as HTML and then save the HTML as PDF separately)).\n",
    "\n",
    "In addition, please complete **A3Q: Assignment 3 -- Quiz** separately on the Moodle site."
   ]
  },
  {
   "cell_type": "markdown",
   "metadata": {},
   "source": [
    "## 7. Summary <a id='section_7'></a>\n",
    "Congratulations! You have implemented the Q-learning algorithm to enable a robot to clean a room using reinforcement learning! To summarize, you have implemented the Q-agent and the interaction process between agent and environment. Your program has evaluated the agent's learning in three different environments and has produced visualizations of the reward and robot behavior. "
   ]
  }
 ],
 "metadata": {
  "kernelspec": {
   "display_name": "Python 3 (ipykernel)",
   "language": "python",
   "name": "python3"
  },
  "language_info": {
   "codemirror_mode": {
    "name": "ipython",
    "version": 3
   },
   "file_extension": ".py",
   "mimetype": "text/x-python",
   "name": "python",
   "nbconvert_exporter": "python",
   "pygments_lexer": "ipython3",
   "version": "3.9.13"
  },
  "vscode": {
   "interpreter": {
    "hash": "6c3bb2cce89c6c7f35f0b91ef8aafcf4ad10dc9f6a12587352a7ca972e5c0cb5"
   }
  }
 },
 "nbformat": 4,
 "nbformat_minor": 2
}
